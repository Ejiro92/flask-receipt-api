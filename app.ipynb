{
  "nbformat": 4,
  "nbformat_minor": 0,
  "metadata": {
    "colab": {
      "provenance": [],
      "authorship_tag": "ABX9TyPe+VNybIwu4OcsyqrOlM/h",
      "include_colab_link": true
    },
    "kernelspec": {
      "name": "python3",
      "display_name": "Python 3"
    },
    "language_info": {
      "name": "python"
    }
  },
  "cells": [
    {
      "cell_type": "markdown",
      "metadata": {
        "id": "view-in-github",
        "colab_type": "text"
      },
      "source": [
        "<a href=\"https://colab.research.google.com/github/Ejiro92/flask-receipt-api/blob/main/app.ipynb\" target=\"_parent\"><img src=\"https://colab.research.google.com/assets/colab-badge.svg\" alt=\"Open In Colab\"/></a>"
      ]
    },
    {
      "cell_type": "code",
      "execution_count": null,
      "metadata": {
        "id": "BMw9QtJgW9HX"
      },
      "outputs": [],
      "source": [
        "from flask import Flask, request, jsonify\n",
        "\n",
        "app = Flask(__name__)\n",
        "\n",
        "@app.route('/')\n",
        "def home():\n",
        "    return \"Flask API is running!\"\n",
        "\n",
        "@app.route('/generate_receipt', methods=['POST'])\n",
        "def generate_receipt():\n",
        "    data = request.json\n",
        "    receipt = {\n",
        "        \"transaction_id\": data[\"transaction_id\"],\n",
        "        \"sender\": data[\"sender\"],\n",
        "        \"receiver\": data[\"receiver\"],\n",
        "        \"amount\": data[\"amount\"]\n",
        "    }\n",
        "    return jsonify({\"receipt\": receipt, \"signature\": \"test-signature\"})\n",
        "\n",
        "@app.route('/verify_receipt', methods=['POST'])\n",
        "def verify():\n",
        "    data = request.json\n",
        "    return jsonify({\"verification_status\": \"✅ Receipt is Valid!\"})\n",
        "\n",
        "if __name__ == \"__main__\":\n",
        "    app.run(host=\"0.0.0.0\", port=10000)\n"
      ]
    }
  ]
}